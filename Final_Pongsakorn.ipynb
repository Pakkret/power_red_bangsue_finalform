{
 "cells": [
  {
   "cell_type": "code",
   "execution_count": 1,
   "metadata": {},
   "outputs": [],
   "source": [
    "import numpy as np\n",
    "import cv2"
   ]
  },
  {
   "cell_type": "markdown",
   "metadata": {},
   "source": [
    "<h1 style = \"text-align: center\">\n",
    "    <a href = \"https://docs.opencv.org/4.5.3/d8/dfe/classcv_1_1VideoCapture.html\">VideoCapture</a>\n",
    "</h1>\n",
    "<h2 style = \"text-align: center\">\n",
    "is class for video capturing from video files, image sequences or cameras.\n",
    "</h2>"
   ]
  },
  {
   "cell_type": "code",
   "execution_count": 2,
   "metadata": {},
   "outputs": [],
   "source": [
    "vid = cv2.VideoCapture('./videos/final_exam/Dataset-1/left_output-1.avi')\n",
    "\n",
    "sift = cv2.SIFT_create()\n",
    "bf = cv2.BFMatcher()\n",
    "\n",
    "template_img = cv2.imread('./images/final_exam/Templates/Template-1.png')\n",
    "template_gray = cv2.cvtColor(template_img,cv2.COLOR_BGR2GRAY)\n",
    "\n",
    "min_match_number = 13\n",
    "\n",
    "while vid.isOpened() :\n",
    "    ret, frame = vid.read()\n",
    "\n",
    "    query_img = frame\n",
    "    query_gray = cv2.cvtColor(query_img, cv2.COLOR_BGR2GRAY)\n",
    "    \n",
    "    if ret :\n",
    "\n",
    "        template_kpts, template_desc = sift.detectAndCompute(template_gray, None)\n",
    "        query_kpts, query_desc = sift.detectAndCompute(query_gray, None)\n",
    "        matches = bf.knnMatch(template_desc, query_desc, k=2)\n",
    "        good_matches = list()\n",
    "        good_matches_list = list()\n",
    "        for m, n in matches :\n",
    "            if m.distance < 0.65*n.distance :     #เปรียบเทียบหาจำนวนgood matches\n",
    "                good_matches.append(m)\n",
    "                good_matches_list.append([m])\n",
    "        \n",
    "        if len(good_matches) > min_match_number :    #เปรียบเทียบจำนวนgood matches กับ min match ที่เรากำหนด ถ้ามันน้อยเกินจะจับภาพมั่ว\n",
    "            src_pts = np.float32([ template_kpts[m.queryIdx].pt for m in good_matches ]).reshape(-1,1,2)      \n",
    "            dst_pts = np.float32([ query_kpts[m.trainIdx].pt for m in good_matches ]).reshape(-1,1,2)\n",
    "\n",
    "            H, inlier_masks = cv2.findHomography(src_pts, dst_pts, cv2.RANSAC, 2.0) # 2.0 คือค่าที่ยอมรับได้+-2 px\n",
    "            # get the bounding box around template image\n",
    "            h, w = template_img.shape[:2]\n",
    "            template_box = np.float32([[0, 0], [0, h-1], [w-1, h-1], [w-1, 0]]).reshape(-1,1,2)\n",
    "            transformed_box = cv2.perspectiveTransform(template_box, H)\n",
    "\n",
    "            detected_img = cv2.polylines(query_img, [np.int32(transformed_box)], True, (0,0,255), 3, cv2.LINE_AA)\n",
    "            drawmatch_img = cv2.drawMatchesKnn(template_img, template_kpts, detected_img, query_kpts, good_matches_list, None, flags=2, matchesMask=inlier_masks)\n",
    "\n",
    "            cv2.imshow('red18+', detected_img)\n",
    "\n",
    "        if cv2.waitKey(int(1000/30)) & 0xFF == ord('q') : # this line control the period between image frame\n",
    "            break\n",
    "    else :\n",
    "        break\n",
    "vid.release()\n",
    "cv2.destroyAllWindows()"
   ]
  }
 ],
 "metadata": {
  "interpreter": {
   "hash": "aaa2d32309aa7ce0f397d0e81903e050bd163767a22d0d109bd73d79b6cf4dfe"
  },
  "kernelspec": {
   "display_name": "Python 3.10.0 64-bit",
   "name": "python3"
  },
  "language_info": {
   "codemirror_mode": {
    "name": "ipython",
    "version": 3
   },
   "file_extension": ".py",
   "mimetype": "text/x-python",
   "name": "python",
   "nbconvert_exporter": "python",
   "pygments_lexer": "ipython3",
   "version": "3.9.7"
  },
  "orig_nbformat": 4
 },
 "nbformat": 4,
 "nbformat_minor": 2
}
